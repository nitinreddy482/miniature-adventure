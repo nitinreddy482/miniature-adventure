{
 "cells": [
  {
   "cell_type": "code",
   "execution_count": 1,
   "id": "0d33e5c0-a78a-4274-8ce3-62325f871696",
   "metadata": {},
   "outputs": [
    {
     "name": "stdout",
     "output_type": "stream",
     "text": [
      "hello\n"
     ]
    }
   ],
   "source": [
    "print('hello')"
   ]
  },
  {
   "cell_type": "code",
   "execution_count": 1,
   "id": "97e3bf88-f564-42be-b463-ae353be1863b",
   "metadata": {},
   "outputs": [
    {
     "name": "stdout",
     "output_type": "stream",
     "text": [
      "Making change to git notebook here\n"
     ]
    }
   ],
   "source": [
    "print(\"Making change to git notebook here\")"
   ]
  },
  {
   "cell_type": "code",
   "execution_count": null,
   "id": "400a8f5a-6ee0-4e65-b4c3-18140a4d0394",
   "metadata": {},
   "outputs": [],
   "source": []
  }
 ],
 "metadata": {
  "kernelspec": {
   "display_name": "Python 3 (ipykernel)",
   "language": "python",
   "name": "python3"
  },
  "language_info": {
   "codemirror_mode": {
    "name": "ipython",
    "version": 3
   },
   "file_extension": ".py",
   "mimetype": "text/x-python",
   "name": "python",
   "nbconvert_exporter": "python",
   "pygments_lexer": "ipython3",
   "version": "3.13.2"
  }
 },
 "nbformat": 4,
 "nbformat_minor": 5
}
